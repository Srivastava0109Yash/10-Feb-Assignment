{
 "cells": [
  {
   "cell_type": "markdown",
   "id": "f31e99b7",
   "metadata": {},
   "source": [
    "### Q1. Which function is used to open a file? What are the different modes of opening a file? Explain each modeof file opening."
   ]
  },
  {
   "cell_type": "markdown",
   "id": "5c4abde8",
   "metadata": {},
   "source": [
    "In Python, the built-in function 'open()' is used to open a file. The 'open()' function takes two parameters: the name of the file to be opened and the mode in which the file should be opened"
   ]
  },
  {
   "cell_type": "markdown",
   "id": "bf21e34d",
   "metadata": {},
   "source": [
    "The different modes of opening a file in Python are:\n",
    "\n",
    "1. __'r' (read-only mode)__: This mode is used to open a file for reading    only. The file pointer is placed at the beginning    of the file. If the file does not exist, a FileNotFoundError is raised.\n",
    "\n",
    "2. __'w' (write mode)__: This mode is used to open a file for writing. If the file already exists, its contents are truncated      (i.e., deleted). If the file does not exist, a new file with the given name is created.\n",
    "\n",
    "3. __'a' (append mode)__: This mode is used to open a file for writing. The file pointer is placed at the end of the file. If      the file does not exist, a new file with the given name is created.\n",
    "\n",
    "4. __'x' (exclusive creation mode)__: This mode is used to open a file for writing. If the file already exists, a                  FileExistsError is raised. If the file does not exist, a new file with the given name is created.\n",
    "\n",
    "5. __'b' (binary mode)__: This mode is used to open a file in binary mode. The file is read and written in binary format,          rather than the default text format.\n",
    "\n",
    "You can combine these modes by using one or more of them together. For example, __'rb'__ means binary mode read-only, and __'wb'__ means write in binary mode."
   ]
  },
  {
   "cell_type": "code",
   "execution_count": 1,
   "id": "d07cc3ac",
   "metadata": {},
   "outputs": [],
   "source": [
    "f = open(\"example.txt\", \"r\")\n",
    "contents = f.read()"
   ]
  },
  {
   "cell_type": "markdown",
   "id": "7fb80eeb",
   "metadata": {},
   "source": [
    "### Q2. Why close() function is used? Why is it important to close a file?"
   ]
  },
  {
   "cell_type": "markdown",
   "id": "9921cb56",
   "metadata": {},
   "source": [
    "The close() function is used to close an open file in Python. It is important to close a file after you are done with it for the following reasons:\n",
    "\n",
    "__Releasing resources__: When a file is open, system resources such as memory and file descriptors are allocated to that file. By closing the file, you release these resources back to the system, making them available for other processes.\n",
    "\n",
    "__Flushing changes__: When you write to a file, the changes are not always immediately saved to disk. By closing the file, you ensure that any changes you have made are flushed to disk and the file is properly updated.\n",
    "\n",
    "__Preventing data corruption__: If you don't close a file properly, the file can become corrupted. For example, if you are writing to a file and the process is terminated before the file is closed, the contents of the file may be lost or become inconsistent. Closing the file ensures that all changes are properly saved and the file is in a consistent state."
   ]
  },
  {
   "cell_type": "code",
   "execution_count": 2,
   "id": "c797a58d",
   "metadata": {},
   "outputs": [
    {
     "name": "stdout",
     "output_type": "stream",
     "text": [
      "this is my first file created.\n",
      "I'm very excited to create it.\n",
      "thank you!!!\n"
     ]
    }
   ],
   "source": [
    "f = open(\"example.txt\", \"r\")\n",
    "contents = f.read()\n",
    "print(contents)\n",
    "f.close()"
   ]
  },
  {
   "cell_type": "markdown",
   "id": "f629ef4a",
   "metadata": {},
   "source": [
    "### Q3. Write a python program to create a text file. Write ‘I want to become a Data Scientist’ in that file. Then close the file. Open this file and read the content of the file."
   ]
  },
  {
   "cell_type": "code",
   "execution_count": 3,
   "id": "308a3bcb",
   "metadata": {},
   "outputs": [
    {
     "name": "stdout",
     "output_type": "stream",
     "text": [
      "I want to become a Data Scientist\n"
     ]
    }
   ],
   "source": [
    "# create file:\n",
    "\n",
    "with open('file.txt','w') as f:\n",
    "    f.write(\"I want to become a Data Scientist\")\n",
    "    \n",
    "# Read content:\n",
    "\n",
    "with open('file.txt','r') as f:\n",
    "    content=f.read()\n",
    "    print(content)"
   ]
  },
  {
   "cell_type": "markdown",
   "id": "7d6e3dcf",
   "metadata": {},
   "source": [
    "### Q4. Explain the following with python code: read(), readline() and readlines()."
   ]
  },
  {
   "cell_type": "markdown",
   "id": "d32fb1a7",
   "metadata": {},
   "source": [
    "1. __read()__: The read()__ method reads the entire contents of a file and returns it as a single string"
   ]
  },
  {
   "cell_type": "code",
   "execution_count": 4,
   "id": "92f4133c",
   "metadata": {},
   "outputs": [
    {
     "name": "stdout",
     "output_type": "stream",
     "text": [
      "this is my first file created.\n",
      "I'm very excited to create it.\n",
      "thank you!!!\n"
     ]
    }
   ],
   "source": [
    "with open(\"example.txt\",\"r\") as f:\n",
    "    c=f.read()\n",
    "    print(c)"
   ]
  },
  {
   "cell_type": "markdown",
   "id": "921088e6",
   "metadata": {},
   "source": [
    "2.  __readline()__: The readline() method reads a single line from the file and returns it as a string."
   ]
  },
  {
   "cell_type": "code",
   "execution_count": 5,
   "id": "64f6476a",
   "metadata": {},
   "outputs": [
    {
     "name": "stdout",
     "output_type": "stream",
     "text": [
      "this is my first file created.\n",
      "\n"
     ]
    }
   ],
   "source": [
    "with open(\"example.txt\",\"r\") as f:\n",
    "    d=f.readline()\n",
    "    print(d)"
   ]
  },
  {
   "cell_type": "markdown",
   "id": "541bc012",
   "metadata": {},
   "source": [
    "3. __readlines()__: The readlines() method reads all the lines of the file and returns them as a list of strings."
   ]
  },
  {
   "cell_type": "code",
   "execution_count": 6,
   "id": "f4052709",
   "metadata": {},
   "outputs": [
    {
     "name": "stdout",
     "output_type": "stream",
     "text": [
      "this is my first file created.\n",
      "\n",
      "I'm very excited to create it.\n",
      "\n",
      "thank you!!!\n"
     ]
    }
   ],
   "source": [
    "with open(\"example.txt\", \"r\") as f:\n",
    "    lines = f.readlines()\n",
    "    for line in lines:\n",
    "        print(line)"
   ]
  },
  {
   "cell_type": "markdown",
   "id": "f83d437c",
   "metadata": {},
   "source": [
    "### Q5. Explain why with statement is used with open(). What is the advantage of using with statement and open() together?"
   ]
  },
  {
   "cell_type": "markdown",
   "id": "c28dc5a0",
   "metadata": {},
   "source": [
    "The __with statement__ is used with open() in Python to ensure that the file is properly closed after it has been used. The with statement provides a convenient way to manage the lifetime of a file and ensures that the file is properly closed, even if an error occurs while working with the file."
   ]
  },
  {
   "cell_type": "markdown",
   "id": "4bcbe887",
   "metadata": {},
   "source": [
    "The advantage of using the with statement and open() together is that it makes it easier to write robust and error-free code. By using the with statement, you don't have to worry about forgetting to close the file or about the file being left open if an error occurs. "
   ]
  },
  {
   "cell_type": "code",
   "execution_count": 7,
   "id": "bce599e9",
   "metadata": {},
   "outputs": [
    {
     "name": "stdout",
     "output_type": "stream",
     "text": [
      "I want to become a Data Scientist\n"
     ]
    }
   ],
   "source": [
    "with open(\"file.txt\", \"r\") as f:\n",
    "    contents = f.read()\n",
    "    print(contents)"
   ]
  },
  {
   "cell_type": "markdown",
   "id": "37f6681b",
   "metadata": {},
   "source": [
    "### Q6. Explain the write() and writelines() functions. Give a suitable example."
   ]
  },
  {
   "cell_type": "markdown",
   "id": "3ef9b7ed",
   "metadata": {},
   "source": [
    "1. __write()__: The write() function writes a string to the file. The string is passed as an argument to the write() function"
   ]
  },
  {
   "cell_type": "code",
   "execution_count": 8,
   "id": "adad49d4",
   "metadata": {},
   "outputs": [],
   "source": [
    "with open(\"text.txt\", \"w\") as f:\n",
    "    f.write(\"Hello World\")\n"
   ]
  },
  {
   "cell_type": "markdown",
   "id": "eb071fb0",
   "metadata": {},
   "source": [
    "2. __writelines()__: The writelines() function writes a list of strings to the file. The list of strings is passed as an argument to the writelines() function."
   ]
  },
  {
   "cell_type": "code",
   "execution_count": 9,
   "id": "fcbc23b9",
   "metadata": {},
   "outputs": [],
   "source": [
    "lines = [\"I want to become a Data Scientist\", \"Data Science is my passion\"]\n",
    "\n",
    "with open(\"text.txt\", \"w\") as f:\n",
    "    f.writelines(lines)\n"
   ]
  },
  {
   "cell_type": "code",
   "execution_count": null,
   "id": "d0dd3bc2",
   "metadata": {},
   "outputs": [],
   "source": []
  }
 ],
 "metadata": {
  "kernelspec": {
   "display_name": "Python 3 (ipykernel)",
   "language": "python",
   "name": "python3"
  },
  "language_info": {
   "codemirror_mode": {
    "name": "ipython",
    "version": 3
   },
   "file_extension": ".py",
   "mimetype": "text/x-python",
   "name": "python",
   "nbconvert_exporter": "python",
   "pygments_lexer": "ipython3",
   "version": "3.9.13"
  }
 },
 "nbformat": 4,
 "nbformat_minor": 5
}
